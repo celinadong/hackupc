{
 "cells": [
  {
   "cell_type": "code",
   "execution_count": 1,
   "metadata": {},
   "outputs": [],
   "source": [
    "postman = \"https://www.skyscanner.net/g/chiron/api/v1/flights/browse/browseroutes/v1.0/ES/EUR/en-GB/BCN/EDI/2019-10-15/2019-10-18?country=ES&currency=EUR&locale=en-GB&originPlace=BCN&destinationPlace=EDI&outboundPartialDate=2019-10-15&inboundPartialDate=2019-10-18\""
   ]
  },
  {
   "cell_type": "code",
   "execution_count": 2,
   "metadata": {},
   "outputs": [],
   "source": [
    "myshit = \"https://www.skyscanner.net/g/chiron/api/v1/flights/browse/browseroutes/v1.0?country=ES&currency=EUR&locale=en-GB&originPlace=BCN&destinationPlace=EDI&outboundPartialDate=2019-10-15&inboundPartialDate=2019-10-18\""
   ]
  },
  {
   "cell_type": "code",
   "execution_count": 3,
   "metadata": {},
   "outputs": [
    {
     "data": {
      "text/plain": [
       "False"
      ]
     },
     "execution_count": 3,
     "metadata": {},
     "output_type": "execute_result"
    }
   ],
   "source": [
    "postman == myshit"
   ]
  },
  {
   "cell_type": "code",
   "execution_count": null,
   "metadata": {},
   "outputs": [],
   "source": [
    "/ES/EUR/en-GB/BCN/EDI/2019-10-15/2019-10-18"
   ]
  },
  {
   "cell_type": "code",
   "execution_count": 5,
   "metadata": {},
   "outputs": [],
   "source": [
    "myshit2 = \"https://www.skyscanner.net/g/chiron/api/v1/flights/browse/browseroutes/v1.0/ES/EUR/en-GB/BCN/EDI/2019-10-15/2019-10-18\""
   ]
  },
  {
   "cell_type": "code",
   "execution_count": 6,
   "metadata": {},
   "outputs": [],
   "source": [
    "postman2 = \"https://www.skyscanner.net/g/chiron/api/v1/flights/browse/browseroutes/v1.0/ES/EUR/en-GB/BCN/EDI/2019-10-15/2019-10-18\""
   ]
  },
  {
   "cell_type": "code",
   "execution_count": 7,
   "metadata": {},
   "outputs": [
    {
     "data": {
      "text/plain": [
       "True"
      ]
     },
     "execution_count": 7,
     "metadata": {},
     "output_type": "execute_result"
    }
   ],
   "source": [
    "postman2 == myshit2"
   ]
  },
  {
   "cell_type": "code",
   "execution_count": null,
   "metadata": {},
   "outputs": [],
   "source": []
  }
 ],
 "metadata": {
  "kernelspec": {
   "display_name": "Python 3",
   "language": "python",
   "name": "python3"
  },
  "language_info": {
   "codemirror_mode": {
    "name": "ipython",
    "version": 3
   },
   "file_extension": ".py",
   "mimetype": "text/x-python",
   "name": "python",
   "nbconvert_exporter": "python",
   "pygments_lexer": "ipython3",
   "version": "3.7.1"
  }
 },
 "nbformat": 4,
 "nbformat_minor": 2
}
